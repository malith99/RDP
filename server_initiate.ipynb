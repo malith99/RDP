{
  "nbformat": 4,
  "nbformat_minor": 0,
  "metadata": {
    "colab": {
      "provenance": [],
      "collapsed_sections": []
    },
    "kernelspec": {
      "name": "python3",
      "display_name": "Python 3"
    },
    "language_info": {
      "name": "python"
    }
  },
  "cells": [
    {
      "cell_type": "code",
      "execution_count": 1,
      "metadata": {
        "colab": {
          "base_uri": "https://localhost:8080/"
        },
        "id": "pwjVz2Nh1xMJ",
        "outputId": "09ab5913-20f0-4a03-ffcb-79936595e316"
      },
      "outputs": [
        {
          "output_type": "stream",
          "name": "stdout",
          "text": [
            "Please insert username and the password for the server\n",
            "Username: malith\n",
            "Password: pinsara\n",
            "\n",
            "Please insert 6 digits pin\n",
            "Pin:123456\n",
            "\n",
            "Please check https://remotedesktop.google.com/headless And copy the command line of Debian Linux and then paste it\n",
            "Command: DISPLAY= /opt/google/chrome-remote-desktop/start-host --code=\"4/0ARtbsJpGMADD5tM-u-crhWtpgotcDj5ouQ48TiffxexPUYUgsGTRhz0xEcMR5qv_9-SNPQ\" --redirect-url=\"https://remotedesktop.google.com/_/oauthredirect\" --name=$(hostname)\n",
            "\n",
            "Creating User...\n",
            "User Created\n",
            "\n",
            "Updating Server\n",
            "Package upgrade has completed.\n",
            "\n",
            "Installing Chrome Remote Desktop\n",
            "Chrome Remote Desktop Installed successfully\n",
            "\n",
            "Installing Desktop Environment\n",
            "Desktop Environment Installed successfully\n",
            "\n",
            "Installing Google Chrome\n",
            "Google Chrome Installed successfully\n",
            "\n",
            "Finalizing\n",
            "Setup has completed \n",
            "\n",
            "Please check https://remotedesktop.google.com/access/ \n"
          ]
        }
      ],
      "source": [
        "#@markdown <h3>⬅️ Click Here to START server</h3>\n",
        "#@title **RDP**\n",
        "\n",
        "! wget https://raw.githubusercontent.com/malith99/RDP/main/RDP.sh &> /dev/null\n",
        "! chmod +x RDP.sh\n",
        "! ./RDP.sh"
      ]
    }
  ]
}