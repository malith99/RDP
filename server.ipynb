#@markdown <h3>⬅️ Click Here to START server</h3>
#@title **RDP**

! wget https://github.com/malith99/RDP/blob/main/RDP.sh &> /dev/null
! chmod +x RDP.sh
! ./RDP.sh
