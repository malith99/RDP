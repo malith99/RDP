{
  "nbformat": 4,
  "nbformat_minor": 0,
  "metadata": {
    "colab": {
      "provenance": []
    },
    "kernelspec": {
      "name": "python3",
      "display_name": "Python 3"
    },
    "language_info": {
      "name": "python"
    }
  },
  "cells": [
    {
      "cell_type": "code",
      "source": [
        "#@title **Create User**\n",
        "#@markdown Enter Username and Password\n",
        "\n",
        "import os\n",
        "\n",
        "username = \"user\" #@param {type:\"string\"}\n",
        "password = \"root\" #@param {type:\"string\"}\n",
        "\n",
        "print(\"Creating User and Setting it up\")\n",
        "\n",
        "# Creation of user\n",
        "os.system(f\"useradd -m {username}\")\n",
        "\n",
        "# Add user to sudo group\n",
        "os.system(f\"adduser {username} sudo\")\n",
        "    \n",
        "# Set password of user to 'root'\n",
        "os.system(f\"echo '{username}:{password}' | sudo chpasswd\")\n",
        "\n",
        "# Change default shell from sh to bash\n",
        "os.system(\"sed -i 's/\\/bin\\/sh/\\/bin\\/bash/g' /etc/passwd\")\n",
        "\n",
        "print(\"User Created and Configured\")"
      ],
      "metadata": {
        "cellView": "form",
        "id": "sv3Nu5oLQmWA"
      },
      "execution_count": null,
      "outputs": []
    },
    {
      "cell_type": "code",
      "source": [
        "#@title **RDP**\n",
        "#@markdown  It takes 4-5 minutes for installation\n",
        "\n",
        "#@markdown  Visit <a href=\"http://remotedesktop.google.com/headless\" target='_blank'>http://remotedesktop.google.com/headless</a> and Copy the command after authentication\n",
        "CRP = \"DISPLAY= /opt/google/chrome-remote-desktop/start-host --code=\\\"4/0ARtbsJrqn1cAaLxXvVDrpTDdtCAa_I_0Yq2h0o2h0vNr0UGJFQyn_RVaNzBZy5XFAkhk3g\\\" --redirect-url=\\\"https://remotedesktop.google.com/_/oauthredirect\\\" --name=$(hostname)\" #@param {type:\"string\"}\n",
        "\n",
        "#@markdown Enter a pin more or equal to 6 digits\n",
        "Pin = 123456 #@param {type: \"integer\"}\n",
        "\n",
        "import os\n",
        "import subprocess\n",
        "\n",
        "class CRD:\n",
        "  def __init__(self):\n",
        "    os.system(\"apt update\")\n",
        "    self.installCRD()\n",
        "    self.installDesktopEnvironment()\n",
        "    self.installGoogleChorme()\n",
        "    self.finish()\n",
        "    os.system(\"apt upgrade\")\n",
        "\n",
        "  @staticmethod\n",
        "  def installCRD():\n",
        "    print(\"Installing Chrome Remote Desktop\")\n",
        "    subprocess.run(['wget', 'https://dl.google.com/linux/direct/chrome-remote-desktop_current_amd64.deb'], stdout=subprocess.PIPE)\n",
        "    subprocess.run(['dpkg', '--install', 'chrome-remote-desktop_current_amd64.deb'], stdout=subprocess.PIPE)\n",
        "    subprocess.run(['apt', 'install', '--assume-yes', '--fix-broken'], stdout=subprocess.PIPE)\n",
        "\n",
        "  @staticmethod\n",
        "  def installDesktopEnvironment():\n",
        "    print(\"Installing Desktop Environment\")\n",
        "    os.system(\"export DEBIAN_FRONTEND=noninteractive\")\n",
        "    os.system(\"apt install --assume-yes xfce4 desktop-base xfce4-terminal\")\n",
        "    os.system(\"bash -c 'echo \\\"exec /etc/X11/Xsession /usr/bin/xfce4-session\\\" > /etc/chrome-remote-desktop-session'\")\n",
        "    os.system(\"apt remove --assume-yes gnome-terminal\")\n",
        "    os.system(\"apt install --assume-yes xscreensaver\")\n",
        "    os.system(\"systemctl disable lightdm.service\")\n",
        "\n",
        "  @staticmethod\n",
        "  def installGoogleChorme():\n",
        "    print(\"Installing Google Chrome\")\n",
        "    subprocess.run([\"wget\", \"https://dl.google.com/linux/direct/google-chrome-stable_current_amd64.deb\"], stdout=subprocess.PIPE)\n",
        "    subprocess.run([\"dpkg\", \"--install\", \"google-chrome-stable_current_amd64.deb\"], stdout=subprocess.PIPE)\n",
        "    subprocess.run(['apt', 'install', '--assume-yes', '--fix-broken'], stdout=subprocess.PIPE)\n",
        "\n",
        "  @staticmethod\n",
        "  def finish():\n",
        "    print(\"Finalizing\")\n",
        "    os.system(f\"adduser {username} chrome-remote-desktop\")\n",
        "    command = f\"{CRP} --pin={Pin}\"\n",
        "    os.system(f\"su - {username} -c '{command}'\")\n",
        "    os.system(\"service chrome-remote-desktop start\")\n",
        "    print(\"Finished Succesfully\")\n",
        "    print(\"Please check https://remotedesktop.google.com/access/\")\n",
        "\n",
        "try:\n",
        "  if username:\n",
        "    if CRP == \"\":\n",
        "      print(\"Please enter authcode from the given link\")\n",
        "    elif len(str(Pin)) < 6:\n",
        "      print(\"Enter a pin more or equal to 6 digits\")\n",
        "    else:\n",
        "      CRD()\n",
        "except NameError as e:\n",
        "  print(\"username variable not found\")\n",
        "  print(\"Create a User First\")"
      ],
      "metadata": {
        "colab": {
          "base_uri": "https://localhost:8080/"
        },
        "cellView": "form",
        "id": "xlGWQz4EPIu4",
        "outputId": "b212349c-b5fd-4da8-d1c7-89a020f4cefb"
      },
      "execution_count": null,
      "outputs": [
        {
          "output_type": "stream",
          "name": "stdout",
          "text": [
            "Installing Chrome Remote Desktop\n",
            "Installing Desktop Environment\n",
            "Installing Google Chrome\n",
            "Finalizing\n",
            "Finished Succesfully\n",
            "Please check https://remotedesktop.google.com/access/\n"
          ]
        }
      ]
    },
    {
      "cell_type": "code",
      "source": [
        "#@title **Google Drive Mount**\n",
        "#@markdown Mounted at `/home/USERNAME/drive` folder\n",
        "#@markdown (If `USERNAME` variable not defined then use `/content/drive` as default).\n",
        "\n",
        "\n",
        "try:\n",
        "  if username:\n",
        "    mountpoint = \"/home/\"+username+\"/drive\"\n",
        "  if username == 'root':\n",
        "    mountpoint = '/content/drive'  \n",
        "except NameError:\n",
        "  mountpoint = '/content/drive'\n",
        "\n",
        "from google.colab import drive\n",
        "drive.mount(mountpoint)"
      ],
      "metadata": {
        "cellView": "form",
        "id": "T08ZYN7fPR1Y"
      },
      "execution_count": null,
      "outputs": []
    },
    {
      "cell_type": "code",
      "source": [
        "#@title **SSH**\n",
        "\n",
        "#@markdown Copy authtoken from <a href='https://dashboard.ngrok.com/auth' target='_blank'>https://dashboard.ngrok.com/auth</a>\n",
        "NGROK_TOKEN = \"2H04yEHhYUAFVRajtutYEwixzbn_4byDCU8x2XUyMyWjSSMgd\" #@param {type:'string'}\n",
        "\n",
        "!pip install colab_ssh &> /dev/null\n",
        "from colab_ssh import launch_ssh\n",
        "from IPython.display import clear_output\n",
        "\n",
        "def runNGROK():\n",
        "  launch_ssh(NGROK_TOKEN, password)\n",
        "  clear_output()\n",
        "\n",
        "  print(\"ssh\", username, end='@')\n",
        "  ! curl -s http://localhost:4040/api/tunnels | python3 -c \\\n",
        "          \"import sys, json; print(json.load(sys.stdin)['tunnels'][0]['public_url'][6:].replace(':', ' -p '))\"\n",
        "  print('Username:',username)\n",
        "  print('Password:', password)\n",
        "\n",
        "try:\n",
        "  if username:\n",
        "    pass\n",
        "  elif password:\n",
        "    pass\n",
        "except NameError:\n",
        "  username='root'\n",
        "  password='root'\n",
        "\n",
        "if NGROK_TOKEN:\n",
        "  try:\n",
        "    runNGROK()\n",
        "  except Exception as e:\n",
        "    print(e)\n",
        "    print('Your Token',NGROK_TOKEN)\n",
        "else:\n",
        "  print(\"No NGROK_TOKEN Found, Please enter it\")"
      ],
      "metadata": {
        "cellView": "form",
        "id": "2vAjSCw1P-94"
      },
      "execution_count": null,
      "outputs": []
    },
    {
      "cell_type": "code",
      "source": [
        "#@title **Colab Shutdown**\n",
        "\n",
        "#@markdown To Kill NGROK Tunnel\n",
        "KILL_NGROK = False #@param {type:'boolean'}\n",
        "\n",
        "#@markdown To Unmount GDrive\n",
        "UNMOUNT_GDRIVE = False #@param {type:'boolean'}\n",
        "\n",
        "#@markdown To Sleep Colab\n",
        "Sleep = 0 #@param {type:\"integer\"}\n",
        "\n",
        "if KILL_NGROK:\n",
        "  !killall ngrok\n",
        "\n",
        "if UNMOUNT_GDRIVE:\n",
        "  from google.colab import drive\n",
        "  drive.flush_and_unmount()\n",
        "\n",
        "if Sleep:\n",
        "  from time import sleep\n",
        "  sleep(Sleep)"
      ],
      "metadata": {
        "cellView": "form",
        "id": "LpwVS9pFQBBf"
      },
      "execution_count": null,
      "outputs": []
    }
  ]
}